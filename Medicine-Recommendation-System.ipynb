{
 "cells": [
  {
   "cell_type": "markdown",
   "id": "10326abe-3026-483e-8a22-e6295537c661",
   "metadata": {},
   "source": [
    "This is Medicine-Recommendation-System (Personalized Medical Recommendation System with Machine Learning)"
   ]
  },
  {
   "cell_type": "markdown",
   "id": "50ec53cd-324f-48fb-a2da-d8ad248c561a",
   "metadata": {},
   "source": [
    "Starting Date -- 28/11/24"
   ]
  },
  {
   "cell_type": "code",
   "execution_count": null,
   "id": "728e6118-f530-4981-ac14-73517f4b819b",
   "metadata": {},
   "outputs": [],
   "source": []
  }
 ],
 "metadata": {
  "kernelspec": {
   "display_name": "Python 3 (ipykernel)",
   "language": "python",
   "name": "python3"
  },
  "language_info": {
   "codemirror_mode": {
    "name": "ipython",
    "version": 3
   },
   "file_extension": ".py",
   "mimetype": "text/x-python",
   "name": "python",
   "nbconvert_exporter": "python",
   "pygments_lexer": "ipython3",
   "version": "3.12.5"
  }
 },
 "nbformat": 4,
 "nbformat_minor": 5
}
